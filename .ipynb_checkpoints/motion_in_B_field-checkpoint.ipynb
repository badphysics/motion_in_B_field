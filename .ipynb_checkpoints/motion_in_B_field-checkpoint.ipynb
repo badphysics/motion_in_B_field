{
 "cells": [
  {
   "cell_type": "code",
   "execution_count": 17,
   "metadata": {
    "collapsed": false,
    "hideCode": true
   },
   "outputs": [
    {
     "data": {
      "text/html": [
       "<script>\n",
       "code_show=true; \n",
       "function code_toggle() {\n",
       " if (code_show){\n",
       " $('div.input').hide();\n",
       " } else {\n",
       " $('div.input').show();\n",
       " }\n",
       " code_show = !code_show\n",
       "} \n",
       "$( document ).ready(code_toggle);\n",
       "</script>\n",
       "<form action=\"javascript:code_toggle()\"><input type=\"submit\" value=\"Click here to toggle on/off the raw code.\"></form>"
      ],
      "text/plain": [
       "<IPython.core.display.HTML object>"
      ]
     },
     "execution_count": 17,
     "metadata": {},
     "output_type": "execute_result"
    }
   ],
   "source": [
    "from IPython.display import HTML\n",
    "\n",
    "HTML('''<script>\n",
    "code_show=true; \n",
    "function code_toggle() {\n",
    " if (code_show){\n",
    " $('div.input').hide();\n",
    " } else {\n",
    " $('div.input').show();\n",
    " }\n",
    " code_show = !code_show\n",
    "} \n",
    "$( document ).ready(code_toggle);\n",
    "</script>\n",
    "<form action=\"javascript:code_toggle()\"><input type=\"submit\" value=\"Click here to toggle on/off the raw code.\"></form>''')"
   ]
  },
  {
   "cell_type": "code",
   "execution_count": 18,
   "metadata": {
    "collapsed": true,
    "hideCode": true
   },
   "outputs": [],
   "source": [
    "from __future__ import print_function\n",
    "from ipywidgets import interact, interactive, fixed, interact_manual\n",
    "import ipywidgets as widgets"
   ]
  },
  {
   "cell_type": "code",
   "execution_count": 19,
   "metadata": {
    "collapsed": false,
    "deletable": true,
    "editable": true,
    "hideCode": true,
    "scrolled": true,
    "tags": [
     "jupyter:hide_input"
    ]
   },
   "outputs": [],
   "source": [
    "import numpy as np\n",
    "import matplotlib.pyplot as plt\n",
    "import numpy as np\n",
    "import matplotlib.pyplot as plt\n",
    "\n",
    "from scipy.integrate import odeint\n",
    "\n",
    "def eqns(x,t,m,q,E,B):\n",
    "    '''\n",
    "    Function: eqns\n",
    "    author: David Urminsky\n",
    "    description: equations of motion for a charged particle moving through a electric field \n",
    "                 in the y direction and a magnetic field perpedicular to the screen.\n",
    "    '''\n",
    "    dy1 = x[2]\n",
    "    dy2 = x[3]\n",
    "    dy3 = q*(x[3]*B)/m\n",
    "    dy4 = q*(E-x[2]*B)/m\n",
    "    return [dy1,dy2,dy3,dy4]\n",
    "\n",
    "def motion(E=0,B=0.25e-6,q=1.6e-19,m=1.67e-27,vx=1.0e2,frac=2.0/3.0):\n",
    "    \"\"\"\n",
    "    function: motion\n",
    "    author:   David Urminsky\n",
    "    description:  This function will advance  \n",
    "                  charged particle through a magnetic\n",
    "                  field and an electric field. It returns\n",
    "                  a figure. \n",
    "    \n",
    "    Here is a list of imput parameters:\n",
    "    \n",
    "    E    - magnitude of electric field \n",
    "           (points in y direction) (default E= 0)\n",
    "    B    - magnitude of magnetic field\n",
    "           (perpenduclar to page. negative value\n",
    "             will change the direction) \n",
    "           (default B = .25e-6 T)\n",
    "    q    - charge of the particle (default q = e)\n",
    "    m    - mass of the particle (default m = mass of proton)\n",
    "    vx   - initial velocity in the positive x direction\n",
    "           (default vx= 100 m/s)\n",
    "    frac - fraction of the period T to integrate the motion\n",
    "           (default frac = 2/3)\n",
    "    \n",
    "    ax - plot returned as a figure.\n",
    "    Example: To move a proton through a magnetic field of magnitude\n",
    "              1.0e-5 T through 1/4 of the period of its motion.\n",
    "                \n",
    "              motion(B=1.0e-5,q = 1.0e-19, m = 1.67e-27,frac=0.25)\n",
    "    \n",
    "    \"\"\"\n",
    "    \n",
    "    vy=0.0 # set up the y coordinate for velocity\n",
    "    ax = plt.figure()   # initialize figure\n",
    "    y0 = [0.0,0.0,vx,vy] #inital conditions [x,y,vx,vy]\n",
    "    args=(m,q,E,B)\n",
    "    T = 2*np.pi*m/(np.abs(q)*np.abs(B))  # gets the period of the motion\n",
    "    t = np.linspace(0,T*frac,25000)  # defines the times to output positions and velocities\n",
    "    sol = odeint(eqns, y0, t,args)  # integrate the system of equations \n",
    "    _ = plt.plot(sol[:,0],sol[:,1],linewidth=2.0) # Create the hplot\n",
    "    _ = plt.axis([-10,10,-10,10])   # set axis bounds\n",
    "    _ = plt.title(\"|B| = \" + str(np.abs(B))) # title for plot\n",
    "    _ = plt.grid()\n",
    "    \n",
    "    # Below is just creating the magnetic field vectors for the figure\n",
    "    xarrow=np.linspace(-10,10,10)\n",
    "    yarrow=np.linspace(-10,10,10)\n",
    "    for coord in xarrow:\n",
    "        for ycoord in yarrow:\n",
    "            #_ = plt.arrow(coord, 0.2, 0, 9, head_width=0.25, head_length=0.75, fc='b', ec='b')\n",
    "            if B > 0.:\n",
    "                _ = plt.plot(coord,ycoord,'x',color='b')\n",
    "            else:\n",
    "                _ = plt.plot(coord,ycoord,'.',color='b')\n",
    "    _ = plt.annotate(\"B\", xy=(2, 1), xytext=(8.5, 5),color='b',size=20)\n",
    "\n",
    "    return ax #return the plot \n",
    "\n",
    "def motion_inter(Q,M,FRAC):\n",
    "    '''\n",
    "    function: motion_inter\n",
    "    Author: David Urminsky\n",
    "    \n",
    "    description: This function is a wrapper for the function motion.\n",
    "                 It is used in a call to interact.\n",
    "                 \n",
    "    Q = number, to create a charge of Q*e\n",
    "    M = number, to create a mass of M*m_p\n",
    "    '''\n",
    "    Q = Q*1.6e-19\n",
    "    M = M*1.67e-27\n",
    "    motion(q=Q,m=M,frac=FRAC)\n",
    "    plt.show()\n"
   ]
  },
  {
   "cell_type": "markdown",
   "metadata": {
    "deletable": true,
    "editable": true
   },
   "source": [
    "# Motion of a charge in a Magnetic Field\n",
    "\n",
    "Consider a charge, $q$, moving in a magnetic field, $\\mathbf{B}$.  The charge experiences a force\n",
    "$$\n",
    "\\mathbf{F} = q\\;\\left( \\mathbf{v}\\times\\mathbf{B}\\right).\n",
    "$$\n",
    "\n",
    "\n",
    "\n",
    "## Exercises\n",
    "1) Does the magnetic field do any work?\n",
    "\n",
    "2) Does the speed of the particle change due to this force?\n",
    "\n",
    "3) is there an acceleration? If so, in what direction?\n",
    "\n"
   ]
  },
  {
   "cell_type": "markdown",
   "metadata": {
    "deletable": true,
    "editable": true
   },
   "source": [
    "## Motion in a uniform field\n",
    "\n",
    "For a uniform magnetic field pointing into the page, as shown below, indicate the direction of the force for a positive charge moving with the velocity shown. The sketch the velocity (direction and magnitude)\n",
    "you would expect to see next, and the force for that velocity, again and again. What pattern forms?"
   ]
  },
  {
   "cell_type": "code",
   "execution_count": 20,
   "metadata": {
    "collapsed": false,
    "deletable": true,
    "editable": true,
    "hideCode": true,
    "tags": [
     "jupyter:hide_input"
    ]
   },
   "outputs": [
    {
     "data": {
      "image/png": "[encoded data removed]",
      "text/plain": [
       "<matplotlib.figure.Figure at 0x109a97a90>"
      ]
     },
     "metadata": {},
     "output_type": "display_data"
    }
   ],
   "source": [
    "plt.axis([-10,10,-10,10])\n",
    "xarrow=np.linspace(-10,10,10)\n",
    "yarrow=np.linspace(-10,10,10)\n",
    "for coord in xarrow:\n",
    "    for ycoord in yarrow:\n",
    "        #_ = plt.arrow(coord, 0.2, 0, 9, head_width=0.25, head_length=0.75, fc='b', ec='b')\n",
    "         plt.plot(coord,ycoord,'x',color='b')\n",
    "plt.annotate(\"B\", xy=(2, 1), xytext=(8.5, 5),color='b',size=20)\n",
    "plt.arrow(0.,0.,3.0,0, head_width=0.25, head_length=0.75, fc='r', ec='r')\n",
    "plt.annotate(\"v\", xy=(2, -1), xytext=(2, -1.5),color='r',size=20)\n",
    "plt.plot(0,0,'.',color='r')\n",
    "plt.show()\n"
   ]
  },
  {
   "cell_type": "markdown",
   "metadata": {},
   "source": [
    "## Now you Try\n",
    "\n",
    "For the example below, you can vary the charge of the particle on the interval $-10e<q<10e$ and the mass from $0.1 m_p<m<5*m_p$.  See what happens to the direction of rotation as the sign of the charge changes.  Also how the radious of curvature changes for different charge and mass values."
   ]
  },
  {
   "cell_type": "code",
   "execution_count": 21,
   "metadata": {
    "collapsed": false,
    "hideCode": true
   },
   "outputs": [
    {
     "data": {
      "application/vnd.jupyter.widget-view+json": {
       "model_id": "94e1434e0bc747f2af4d42196629ccc0"
      }
     },
     "metadata": {},
     "output_type": "display_data"
    }
   ],
   "source": [
    "#i = interact(motion_inter,widgets.FloatSlider(min=-10.,max=10.,step=.13,value=4.,description='here'),M=(.1,5,.1),FRAC=(0.0,1,.1))\n",
    "i = interact(motion_inter,Q=widgets.FloatSlider(min=-10.,max=10.,step=.13,value=4.,description='Charge multiple of e (N*e)'),M=widgets.FloatSlider(min=.1,max=5,step=.1,value=1,description='Mass:'),FRAC=widgets.FloatSlider(min=0.1,max=1,step=.1,description='Fraction of T:'))"
   ]
  },
  {
   "cell_type": "markdown",
   "metadata": {
    "deletable": true,
    "editable": true
   },
   "source": [
    "## Excercise\n",
    "\n",
    "4) Find the radius of curvature of the path the a charged particle will take while moving through the above magnetic field.\n"
   ]
  },
  {
   "cell_type": "markdown",
   "metadata": {
    "deletable": true,
    "editable": true
   },
   "source": [
    "## Now you try\n",
    "\n",
    "The function **motion** will advance the particle within the above magnetic field.  \n",
    "\n"
   ]
  },
  {
   "cell_type": "code",
   "execution_count": 22,
   "metadata": {
    "collapsed": false,
    "deletable": true,
    "editable": true,
    "scrolled": false
   },
   "outputs": [
    {
     "name": "stdout",
     "output_type": "stream",
     "text": [
      "Help on function motion in module __main__:\n",
      "\n",
      "motion(E=0, B=2.5e-07, q=1.6e-19, m=1.67e-27, vx=100.0, frac=0.6666666666666666)\n",
      "    function: motion\n",
      "    author:   David Urminsky\n",
      "    description:  This function will advance  \n",
      "                  charged particle through a magnetic\n",
      "                  field and an electric field. It returns\n",
      "                  a figure. \n",
      "    \n",
      "    Here is a list of imput parameters:\n",
      "    \n",
      "    E    - magnitude of electric field \n",
      "           (points in y direction) (default E= 0)\n",
      "    B    - magnitude of magnetic field\n",
      "           (perpenduclar to page. negative value\n",
      "             will change the direction) \n",
      "           (default B = .25e-6 T)\n",
      "    q    - charge of the particle (default q = e)\n",
      "    m    - mass of the particle (default m = mass of proton)\n",
      "    vx   - initial velocity in the positive x direction\n",
      "           (default vx= 100 m/s)\n",
      "    frac - fraction of the period T to integrate the motion\n",
      "           (default frac = 2/3)\n",
      "    \n",
      "    ax - plot returned as a figure.\n",
      "    Example: To move a proton through a magnetic field of magnitude\n",
      "              1.0e-5 T through 1/4 of the period of its motion.\n",
      "                \n",
      "              motion(B=1.0e-5,q = 1.0e-19, m = 1.67e-27,frac=0.25)\n",
      "\n"
     ]
    }
   ],
   "source": [
    "help(motion)"
   ]
  },
  {
   "cell_type": "code",
   "execution_count": 23,
   "metadata": {
    "collapsed": false,
    "deletable": true,
    "editable": true
   },
   "outputs": [
    {
     "data": {
      "image/png": "[encoded data removed]",
      "text/plain": [
       "<matplotlib.figure.Figure at 0x109a8b7f0>"
      ]
     },
     "metadata": {},
     "output_type": "display_data"
    }
   ],
   "source": [
    "'''\n",
    "The following commands will have an electron move through a \n",
    "magnetic field of magnitude B = 0.25e-6 T from t = 0 to \n",
    "t = T/4\n",
    "'''\n",
    "f = motion(B=.25e-6,q=-1.6e-19,frac=0.25)\n",
    "plt.show()"
   ]
  },
  {
   "cell_type": "markdown",
   "metadata": {
    "deletable": true,
    "editable": true,
    "hideCode": false
   },
   "source": [
    "## Exercises\n",
    "\n",
    "5) Advance an alpha particle  (2 protons, 2 neutrons) through a magnetic field of magnitude 0.25e-6 T, with an initial speed in the x direction of, vx=30 m/s. What is the radius of curvature Check the result with the theoretical value obtained above in exercise 4."
   ]
  },
  {
   "cell_type": "code",
   "execution_count": 24,
   "metadata": {
    "collapsed": false
   },
   "outputs": [
    {
     "data": {
      "image/png": "[encoded data removed]",
      "text/plain": [
       "<matplotlib.figure.Figure at 0x115982fd0>"
      ]
     },
     "metadata": {},
     "output_type": "display_data"
    }
   ],
   "source": [
    "f = motion(B= .25e-6, q =3.2e-19 , m=4*1.67e-27 , vx =30.0 )\n",
    "plt.show()"
   ]
  },
  {
   "cell_type": "markdown",
   "metadata": {
    "deletable": true,
    "editable": true
   },
   "source": [
    "6) for the previous problem, add an electric field of magnitude E = 2.0e-7 N/C and describe the motion over 5 periods."
   ]
  },
  {
   "cell_type": "code",
   "execution_count": 25,
   "metadata": {
    "collapsed": false,
    "scrolled": true
   },
   "outputs": [
    {
     "data": {
      "image/png": "[encoded data removed]",
      "text/plain": [
       "<matplotlib.figure.Figure at 0x115d4cf98>"
      ]
     },
     "metadata": {},
     "output_type": "display_data"
    }
   ],
   "source": [
    "f = motion(E = 2.0e-7,B= .25e-6, q =3.2e-19 , m=4*1.67e-27 , vx =30.0, frac=5 )\n",
    "plt.show()"
   ]
  },
  {
   "cell_type": "code",
   "execution_count": null,
   "metadata": {
    "collapsed": true
   },
   "outputs": [],
   "source": []
  }
 ],
 "metadata": {
  "celltoolbar": "Hide code",
  "kernelspec": {
   "display_name": "py35b-test",
   "language": "python",
   "name": "py35b-test"
  },
  "language_info": {
   "codemirror_mode": {
    "name": "ipython",
    "version": 3
   },
   "file_extension": ".py",
   "mimetype": "text/x-python",
   "name": "python",
   "nbconvert_exporter": "python",
   "pygments_lexer": "ipython3",
   "version": "3.5.3"
  }
 },
 "nbformat": 4,
 "nbformat_minor": 2
}
