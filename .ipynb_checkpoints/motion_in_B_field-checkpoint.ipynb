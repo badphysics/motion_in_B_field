{
 "cells": [
  {
   "cell_type": "code",
   "execution_count": 1,
   "metadata": {
    "collapsed": false,
    "scrolled": true,
    "tags": [
     "jupyter:hide_input"
    ]
   },
   "outputs": [],
   "source": [
    "import numpy as np\n",
    "import matplotlib.pyplot as plt\n",
    "import numpy as np\n",
    "import matplotlib.pyplot as plt\n",
    "\n",
    "from scipy.integrate import odeint\n",
    "\n",
    "def eqns(x,t,m,q,E,B):\n",
    "    '''\n",
    "    Function: eqns\n",
    "    author: David Urminsky\n",
    "    description: equations of motion for a charged particle moving through a electric field \n",
    "                 in the y direction and a magnetic field perpedicular to the screen.\n",
    "    '''\n",
    "    dy1 = x[2]\n",
    "    dy2 = x[3]\n",
    "    dy3 = q*(x[3]*B)/m\n",
    "    dy4 = q*(E-x[2]*B)/m\n",
    "    return [dy1,dy2,dy3,dy4]\n",
    "\n",
    "def motion(E=0,B=0.25e-6,q=1.6e-19,m=1.67e-27,vx=1.0e2,frac=2.0/3.0):\n",
    "    \"\"\"\n",
    "    function: motion\n",
    "    author:   David Urminsky\n",
    "    description:  This function will advance a charged particle through a magnetic\n",
    "    field and an electric field. It returns a figure. Here is a list of imput parameters:\n",
    "    E - magnitude of electric field (points in y direction) (default E= 0)\n",
    "    B - magnitude of magnetic field (perpenduclar to page. negaive value\n",
    "                                      will change the direction) \n",
    "                                    (default B = .25e-6 T)\n",
    "    q - charge of the particle (default q = e)\n",
    "    m - mass of the particle (default m = mass of proton)\n",
    "    vx - initial velocity in the positive x direction (default vx= 100 m/s)\n",
    "    frac - fraction of the period T to integrate the motion (default frac = 2/3)\n",
    "    \n",
    "    ax - plot returned as a figure.\n",
    "    Example:\n",
    "    motion(B=1.0e-5,)\n",
    "    \"\"\"\n",
    "    \n",
    "    vy=0.0 # set up the y coordinate for velocity\n",
    "    ax = plt.figure()   # initialize figure\n",
    "    y0 = [0.0,0.0,vx,vy] #inital conditions [x,y,vx,vy]\n",
    "    args=(m,q,E,B)\n",
    "    T = 2*np.pi*m/(np.abs(q)*np.abs(B))  # gets the period of the motion\n",
    "    t = np.linspace(0,T*frac,25000)  # defines the times to output positions and velocities\n",
    "    sol = odeint(eqns, y0, t,args)  # integrate the system of equations \n",
    "    _ = plt.plot(sol[:,0],sol[:,1]) # Create the hplot\n",
    "    _ = plt.axis([-10,10,-10,10])   # set axis bounds\n",
    "    _ = plt.title(\"|B| = \" + str(np.abs(B))) # title for plot\n",
    "    _ = plt.grid()\n",
    "    \n",
    "    # Below is just creating the magnetic field vectors for the figure\n",
    "    xarrow=np.linspace(-10,10,10)\n",
    "    yarrow=np.linspace(-10,10,10)\n",
    "    for coord in xarrow:\n",
    "        for ycoord in yarrow:\n",
    "            #_ = plt.arrow(coord, 0.2, 0, 9, head_width=0.25, head_length=0.75, fc='b', ec='b')\n",
    "            if B > 0.:\n",
    "                _ = plt.plot(coord,ycoord,'x',color='b')\n",
    "            else:\n",
    "                _ = plt.plot(coord,ycoord,'.',color='b')\n",
    "    _ = plt.annotate(\"B\", xy=(2, 1), xytext=(8.5, 5),color='b',size=20)\n",
    "\n",
    "    return ax #return the plot \n"
   ]
  },
  {
   "cell_type": "markdown",
   "metadata": {},
   "source": [
    "# Motion of a charge in a Magnetic Field\n",
    "\n",
    "Consider a charge, $q$, moving in a magnetic field, $\\mathbf{B}$.  The charge experiences a force\n",
    "$$\n",
    "\\mathbf{F} = q\\;\\left( \\mathbf{v}\\times\\mathbf{B}\\right).\n",
    "$$\n",
    "\n",
    "\n",
    "\n",
    "## Exercises\n",
    "1) Does the magnetic field do any work?\n",
    "\n",
    "2) Does speed of the particle change due to this force?\n",
    "\n",
    "3) is there an acceleration? If so, in what direction?\n",
    "\n"
   ]
  },
  {
   "cell_type": "markdown",
   "metadata": {},
   "source": [
    "## Motion in a uniform field\n",
    "\n",
    "For a uniform magnetic field pointing into the page, as shown, indicated the direction of the force for a pos-\n",
    "itive charge moving with the velocity shown. The sketch the velocity (direction and magnitude)\n",
    "you would expect to see next, and the force for that velocity, again and again. What pattern forms?"
   ]
  },
  {
   "cell_type": "code",
   "execution_count": 2,
   "metadata": {
    "collapsed": false,
    "tags": [
     "jupyter:hide_input"
    ]
   },
   "outputs": [
    {
     "data": {
      "image/png": "[encoded data removed]",
      "text/plain": [
       "<matplotlib.figure.Figure at 0x10dc09550>"
      ]
     },
     "metadata": {},
     "output_type": "display_data"
    }
   ],
   "source": [
    "plt.axis([-10,10,-10,10])\n",
    "xarrow=np.linspace(-10,10,10)\n",
    "yarrow=np.linspace(-10,10,10)\n",
    "for coord in xarrow:\n",
    "    for ycoord in yarrow:\n",
    "        #_ = plt.arrow(coord, 0.2, 0, 9, head_width=0.25, head_length=0.75, fc='b', ec='b')\n",
    "         plt.plot(coord,ycoord,'x',color='b')\n",
    "plt.annotate(\"B\", xy=(2, 1), xytext=(8.5, 5),color='b',size=20)\n",
    "plt.arrow(0.,0.,3.0,0, head_width=0.25, head_length=0.75, fc='r', ec='r')\n",
    "plt.annotate(\"v\", xy=(2, -1), xytext=(2, -1.5),color='r',size=20)\n",
    "plt.plot(0,0,'.',color='r')\n",
    "plt.show()\n"
   ]
  },
  {
   "cell_type": "markdown",
   "metadata": {},
   "source": [
    "## Excercise\n",
    "\n",
    "4) Find the radius of curvature of the path the a charged particle will take while moving through the above magnetic field.\n"
   ]
  },
  {
   "cell_type": "markdown",
   "metadata": {},
   "source": [
    "## Now you try\n",
    "\n",
    "The function motion will advance the particle within the above magnetic field.  \n",
    "\n"
   ]
  },
  {
   "cell_type": "code",
   "execution_count": 3,
   "metadata": {
    "collapsed": false
   },
   "outputs": [
    {
     "name": "stdout",
     "output_type": "stream",
     "text": [
      "Help on function motion in module __main__:\n",
      "\n",
      "motion(E=0, B=2.5e-07, q=1.6e-19, m=1.67e-27, vx=100.0, frac=0.6666666666666666)\n",
      "    function: motion\n",
      "    author:   David Urminsky\n",
      "    description:  This function will advance a charged particle through a magnetic\n",
      "    field and an electric field. It returns a figure. Here is a list of imput parameters:\n",
      "    E - magnitude of electric field (points in y direction) (default E= 0)\n",
      "    B - magnitude of magnetic field (perpenduclar to page. negaive value\n",
      "                                      will change the direction) \n",
      "                                    (default B = .25e-6 T)\n",
      "    q - charge of the particle (default q = e)\n",
      "    m - mass of the particle (default m = mass of proton)\n",
      "    vx - initial velocity in the positive x direction (default vx= 100 m/s)\n",
      "    frac - fraction of the period T to integrate the motion (default frac = 2/3)\n",
      "    \n",
      "    ax - plot returned as a figure.\n",
      "    Example:\n",
      "    motion(B=1.0e-5,)\n",
      "\n"
     ]
    }
   ],
   "source": [
    "help(motion)"
   ]
  },
  {
   "cell_type": "code",
   "execution_count": 4,
   "metadata": {
    "collapsed": false
   },
   "outputs": [
    {
     "data": {
      "image/png": "[encoded data removed]",
      "text/plain": [
       "<matplotlib.figure.Figure at 0x10dc09160>"
      ]
     },
     "metadata": {},
     "output_type": "display_data"
    }
   ],
   "source": [
    "'''\n",
    "The following commands will have an electron move through a \n",
    "magnetic field of magnitude B = 0.25e-6 T from t = 0 to \n",
    "t = T/4\n",
    "'''\n",
    "f = motion(B=.25e-6,q=-1.6e-19,frac=0.25)\n",
    "plt.show()"
   ]
  },
  {
   "cell_type": "markdown",
   "metadata": {
    "hideCode": false
   },
   "source": [
    "## Exercises\n",
    "\n",
    "5) Advance an alpha particle  (2 protons, 2 neutrons) through a magnetic field of magnitude 0.25e-6 T, with an initial speed in the x direction of, vx=30 m/s.  Check the result with the theoretical value obtained above in exercise 4."
   ]
  },
  {
   "cell_type": "markdown",
   "metadata": {},
   "source": [
    "6) for the previous problem, add an electric field of magnitude E = 2.0e-7 N/C and describe the motion."
   ]
  },
  {
   "cell_type": "code",
   "execution_count": null,
   "metadata": {
    "collapsed": true
   },
   "outputs": [],
   "source": []
  }
 ],
 "metadata": {
  "celltoolbar": "Edit Metadata",
  "kernelspec": {
   "display_name": "py35b-test",
   "language": "python",
   "name": "py35b-test"
  },
  "language_info": {
   "codemirror_mode": {
    "name": "ipython",
    "version": 3
   },
   "file_extension": ".py",
   "mimetype": "text/x-python",
   "name": "python",
   "nbconvert_exporter": "python",
   "pygments_lexer": "ipython3",
   "version": "3.5.3"
  }
 },
 "nbformat": 4,
 "nbformat_minor": 2
}
